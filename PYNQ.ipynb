{
 "cells": [
  {
   "cell_type": "markdown",
   "metadata": {},
   "source": [
    "# Lab 4: Image Processing\n",
    "\n",
    "In this notebook you will apply filters to an image of your choice which you can then display within the notebook."
   ]
  },
  {
   "cell_type": "markdown",
   "metadata": {},
   "source": [
    "## 1. Load Overlay"
   ]
  },
  {
   "cell_type": "code",
   "execution_count": null,
   "metadata": {},
   "outputs": [],
   "source": [
    "import os\n",
    "from pynq import PL\n",
    "from pynq import Overlay\n",
    "from pynq.lib.video import *\n",
    "import cv2\n",
    "from pynq import allocate\n",
    "import matplotlib.pyplot as plt\n",
    "import numpy as np\n",
    "import time"
   ]
  },
  {
   "cell_type": "code",
   "execution_count": null,
   "metadata": {},
   "outputs": [],
   "source": [
    "# Edit the path to where your .bit and .hwh files are located\n",
    "ol = Overlay(\"/home/xilinx/jupyter_notebooks/<project_folder_name>/base.bit\")"
   ]
  },
  {
   "cell_type": "code",
   "execution_count": null,
   "metadata": {},
   "outputs": [],
   "source": [
    "vdma_in = ol.axi_vdma_0\n",
    "vdma_out = ol.axi_vdma_1"
   ]
  },
  {
   "cell_type": "code",
   "execution_count": null,
   "metadata": {},
   "outputs": [],
   "source": [
    "sobel_acc = ol.sobel_accel_0"
   ]
  },
  {
   "cell_type": "markdown",
   "metadata": {},
   "source": [
    "## 2. Load Your Image"
   ]
  },
  {
   "cell_type": "code",
   "execution_count": null,
   "metadata": {},
   "outputs": [],
   "source": [
    "# Edit the path to your chosen image\n",
    "src_bgr = cv2.imread(\"<image_path>/<image_name>.jpg\")\n",
    "src_rgb = cv2.cvtColor(src_bgr, cv2.COLOR_BGR2RGB)\n",
    "height = 1080\n",
    "width = 1920\n",
    "canvas = plt.gcf()\n",
    "size = canvas.get_size_inches()\n",
    "canvas.set_size_inches(size*2)\n",
    "print(\"Image size: {}x{} pixels.\".format(width, height))\n",
    "_ = plt.imshow(src_rgb)"
   ]
  },
  {
   "cell_type": "markdown",
   "metadata": {},
   "source": [
    "## 3. Implement Filter"
   ]
  },
  {
   "cell_type": "code",
   "execution_count": null,
   "metadata": {},
   "outputs": [],
   "source": [
    "#set the video mode of the DMA before starting\n",
    "framemode = VideoMode(1920,1080,24)"
   ]
  },
  {
   "cell_type": "code",
   "execution_count": null,
   "metadata": {},
   "outputs": [],
   "source": [
    "vdma_in.writechannel.mode = framemode\n",
    "vdma_out.readchannel.mode = framemode"
   ]
  },
  {
   "cell_type": "code",
   "execution_count": null,
   "metadata": {},
   "outputs": [],
   "source": [
    "#read from DRAM and pass to sobel_accel\n",
    "vdma_in.writechannel.start()\n",
    "#read from sobel_accel and pass to DRAM\n",
    "vdma_out.readchannel.start()"
   ]
  },
  {
   "cell_type": "code",
   "execution_count": null,
   "metadata": {},
   "outputs": [],
   "source": [
    "# auto restart mode\n",
    "sobel_acc.write(0x00,0x81)"
   ]
  },
  {
   "cell_type": "code",
   "execution_count": null,
   "metadata": {},
   "outputs": [],
   "source": [
    "in_buffer = allocate(shape=(height, width, 3), dtype=np.uint8, cacheable=1)\n",
    "out_buffer = allocate(shape=(height, width, 3), dtype=np.uint8, cacheable=1)\n",
    "in_buffer[:] = src_rgb"
   ]
  },
  {
   "cell_type": "code",
   "execution_count": null,
   "metadata": {},
   "outputs": [],
   "source": [
    "vdma_in.writechannel.setframe(in_buffer)\n",
    "out_buffer = vdma_out.readchannel.readframe()"
   ]
  },
  {
   "cell_type": "markdown",
   "metadata": {},
   "source": [
    "## 4. Display Filter Output"
   ]
  },
  {
   "cell_type": "code",
   "execution_count": null,
   "metadata": {
    "scrolled": false
   },
   "outputs": [],
   "source": [
    "canvas = plt.gcf()\n",
    "size = canvas.get_size_inches()\n",
    "canvas.set_size_inches(size*2)\n",
    "print(\"Image size: {}x{} pixels.\".format(width, height))\n",
    "_ = plt.imshow(out_buffer)"
   ]
  },
  {
   "cell_type": "markdown",
   "metadata": {},
   "source": [
    "## 5. Save the Filter Ouput  "
   ]
  },
  {
   "cell_type": "code",
   "execution_count": null,
   "metadata": {},
   "outputs": [],
   "source": [
    "# Rename the output image of your filter\n",
    "cv2.imwrite(\"<output_image_name>.jpg\",out_buffer)"
   ]
  },
  {
   "cell_type": "markdown",
   "metadata": {},
   "source": [
    "## 6. Reset the DMA Channel"
   ]
  },
  {
   "cell_type": "code",
   "execution_count": null,
   "metadata": {},
   "outputs": [],
   "source": [
    "# Reset to Flush Datas\n",
    "vdma_in.writechannel.reset()\n",
    "vdma_out.readchannel.reset()\n",
    "ol.reset()"
   ]
  },
  {
   "cell_type": "markdown",
   "metadata": {},
   "source": [
    "Notebook adapted from the project: https://github.com/21stars/pynq_cv"
   ]
  }
 ],
 "metadata": {
  "kernelspec": {
   "display_name": "Python 3",
   "language": "python",
   "name": "python3"
  },
  "language_info": {
   "codemirror_mode": {
    "name": "ipython",
    "version": 3
   },
   "file_extension": ".py",
   "mimetype": "text/x-python",
   "name": "python",
   "nbconvert_exporter": "python",
   "pygments_lexer": "ipython3",
   "version": "3.8.2"
  }
 },
 "nbformat": 4,
 "nbformat_minor": 2
}
